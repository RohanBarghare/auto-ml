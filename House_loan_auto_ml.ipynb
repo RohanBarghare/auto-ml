{
  "nbformat": 4,
  "nbformat_minor": 0,
  "metadata": {
    "colab": {
      "name": "House_loan_auto_ml_lale.ipynb",
      "provenance": [],
      "collapsed_sections": []
    },
    "kernelspec": {
      "name": "python3",
      "display_name": "Python 3"
    },
    "language_info": {
      "name": "python"
    }
  },
  "cells": [
    {
      "cell_type": "code",
      "metadata": {
        "colab": {
          "base_uri": "https://localhost:8080/"
        },
        "id": "X1BkhFVLSxdm",
        "outputId": "829d89f7-bc5c-45b2-9821-000d24c56e54"
      },
      "source": [
        "!pip install lale\n",
        "import lale\n"
      ],
      "execution_count": 1,
      "outputs": [
        {
          "output_type": "stream",
          "name": "stdout",
          "text": [
            "Requirement already satisfied: lale in /usr/local/lib/python3.7/dist-packages (0.5.5)\n",
            "Requirement already satisfied: numpy in /usr/local/lib/python3.7/dist-packages (from lale) (1.19.5)\n",
            "Requirement already satisfied: black==19.10b0 in /usr/local/lib/python3.7/dist-packages (from lale) (19.10b0)\n",
            "Requirement already satisfied: scipy in /usr/local/lib/python3.7/dist-packages (from lale) (1.4.1)\n",
            "Requirement already satisfied: astunparse in /usr/local/lib/python3.7/dist-packages (from lale) (1.6.3)\n",
            "Requirement already satisfied: graphviz in /usr/local/lib/python3.7/dist-packages (from lale) (0.10.1)\n",
            "Requirement already satisfied: pandas in /usr/local/lib/python3.7/dist-packages (from lale) (1.1.5)\n",
            "Requirement already satisfied: decorator in /usr/local/lib/python3.7/dist-packages (from lale) (4.4.2)\n",
            "Requirement already satisfied: jsonschema in /usr/local/lib/python3.7/dist-packages (from lale) (2.6.0)\n",
            "Requirement already satisfied: jsonsubschema in /usr/local/lib/python3.7/dist-packages (from lale) (0.0.5)\n",
            "Requirement already satisfied: hyperopt in /usr/local/lib/python3.7/dist-packages (from lale) (0.2.5)\n",
            "Requirement already satisfied: scikit-learn>=0.20.3 in /usr/local/lib/python3.7/dist-packages (from lale) (0.22.2.post1)\n",
            "Requirement already satisfied: appdirs in /usr/local/lib/python3.7/dist-packages (from black==19.10b0->lale) (1.4.4)\n",
            "Requirement already satisfied: pathspec<1,>=0.6 in /usr/local/lib/python3.7/dist-packages (from black==19.10b0->lale) (0.9.0)\n",
            "Requirement already satisfied: attrs>=18.1.0 in /usr/local/lib/python3.7/dist-packages (from black==19.10b0->lale) (21.2.0)\n",
            "Requirement already satisfied: click>=6.5 in /usr/local/lib/python3.7/dist-packages (from black==19.10b0->lale) (7.1.2)\n",
            "Requirement already satisfied: regex in /usr/local/lib/python3.7/dist-packages (from black==19.10b0->lale) (2019.12.20)\n",
            "Requirement already satisfied: toml>=0.9.4 in /usr/local/lib/python3.7/dist-packages (from black==19.10b0->lale) (0.10.2)\n",
            "Requirement already satisfied: typed-ast>=1.4.0 in /usr/local/lib/python3.7/dist-packages (from black==19.10b0->lale) (1.4.3)\n",
            "Requirement already satisfied: joblib>=0.11 in /usr/local/lib/python3.7/dist-packages (from scikit-learn>=0.20.3->lale) (1.0.1)\n",
            "Requirement already satisfied: six<2.0,>=1.6.1 in /usr/local/lib/python3.7/dist-packages (from astunparse->lale) (1.15.0)\n",
            "Requirement already satisfied: wheel<1.0,>=0.23.0 in /usr/local/lib/python3.7/dist-packages (from astunparse->lale) (0.37.0)\n",
            "Requirement already satisfied: cloudpickle in /usr/local/lib/python3.7/dist-packages (from hyperopt->lale) (1.3.0)\n",
            "Requirement already satisfied: future in /usr/local/lib/python3.7/dist-packages (from hyperopt->lale) (0.16.0)\n",
            "Requirement already satisfied: tqdm in /usr/local/lib/python3.7/dist-packages (from hyperopt->lale) (4.62.2)\n",
            "Requirement already satisfied: networkx>=2.2 in /usr/local/lib/python3.7/dist-packages (from hyperopt->lale) (2.6.3)\n",
            "Requirement already satisfied: jsonref in /usr/local/lib/python3.7/dist-packages (from jsonsubschema->lale) (0.2)\n",
            "Requirement already satisfied: greenery in /usr/local/lib/python3.7/dist-packages (from jsonsubschema->lale) (3.3.2)\n",
            "Requirement already satisfied: portion in /usr/local/lib/python3.7/dist-packages (from jsonsubschema->lale) (2.2.0)\n",
            "Requirement already satisfied: python-dateutil>=2.7.3 in /usr/local/lib/python3.7/dist-packages (from pandas->lale) (2.8.2)\n",
            "Requirement already satisfied: pytz>=2017.2 in /usr/local/lib/python3.7/dist-packages (from pandas->lale) (2018.9)\n",
            "Requirement already satisfied: sortedcontainers~=2.2 in /usr/local/lib/python3.7/dist-packages (from portion->jsonsubschema->lale) (2.4.0)\n"
          ]
        }
      ]
    },
    {
      "cell_type": "code",
      "metadata": {
        "colab": {
          "base_uri": "https://localhost:8080/"
        },
        "id": "28WRr_hlTJ3C",
        "outputId": "36501e1f-d4d4-45e3-ba67-dc6f8b942ea0"
      },
      "source": [
        "!pip install hyperopt==0.2.5 "
      ],
      "execution_count": 2,
      "outputs": [
        {
          "output_type": "stream",
          "name": "stdout",
          "text": [
            "Requirement already satisfied: hyperopt==0.2.5 in /usr/local/lib/python3.7/dist-packages (0.2.5)\n",
            "Requirement already satisfied: future in /usr/local/lib/python3.7/dist-packages (from hyperopt==0.2.5) (0.16.0)\n",
            "Requirement already satisfied: numpy in /usr/local/lib/python3.7/dist-packages (from hyperopt==0.2.5) (1.19.5)\n",
            "Requirement already satisfied: scipy in /usr/local/lib/python3.7/dist-packages (from hyperopt==0.2.5) (1.4.1)\n",
            "Requirement already satisfied: cloudpickle in /usr/local/lib/python3.7/dist-packages (from hyperopt==0.2.5) (1.3.0)\n",
            "Requirement already satisfied: networkx>=2.2 in /usr/local/lib/python3.7/dist-packages (from hyperopt==0.2.5) (2.6.3)\n",
            "Requirement already satisfied: six in /usr/local/lib/python3.7/dist-packages (from hyperopt==0.2.5) (1.15.0)\n",
            "Requirement already satisfied: tqdm in /usr/local/lib/python3.7/dist-packages (from hyperopt==0.2.5) (4.62.2)\n"
          ]
        }
      ]
    },
    {
      "cell_type": "code",
      "metadata": {
        "colab": {
          "base_uri": "https://localhost:8080/"
        },
        "id": "MAisXPlcTNRb",
        "outputId": "92e72926-eb36-441c-fd64-14ed312ec5dd"
      },
      "source": [
        "!pip install 'liac-arff>=2.4.0'"
      ],
      "execution_count": 3,
      "outputs": [
        {
          "output_type": "stream",
          "name": "stdout",
          "text": [
            "Requirement already satisfied: liac-arff>=2.4.0 in /usr/local/lib/python3.7/dist-packages (2.5.0)\n"
          ]
        }
      ]
    },
    {
      "cell_type": "code",
      "metadata": {
        "id": "f5EV8NSTTRL_"
      },
      "source": [
        "from sklearn.preprocessing import Normalizer as Norm\n",
        "from sklearn.preprocessing import OneHotEncoder as OneHot\n",
        "from lale.lib.lale import Project, ConcatFeatures, NoOp\n",
        "from sklearn.linear_model import LogisticRegression as LR\n",
        "from sklearn.svm import LinearSVC\n",
        "from xgboost import XGBClassifier as XGBoost\n",
        "from lale import wrap_imported_operators\n",
        "wrap_imported_operators()"
      ],
      "execution_count": 4,
      "outputs": []
    },
    {
      "cell_type": "code",
      "metadata": {
        "id": "ERvg_bAPTdoF"
      },
      "source": [
        "import pandas as pd\n",
        "import numpy as np\n",
        "from sklearn.model_selection import train_test_split"
      ],
      "execution_count": 5,
      "outputs": []
    },
    {
      "cell_type": "code",
      "metadata": {
        "id": "mcC250XtTVgw"
      },
      "source": [
        "data=pd.read_csv('train.csv')"
      ],
      "execution_count": 6,
      "outputs": []
    },
    {
      "cell_type": "code",
      "metadata": {
        "id": "8X16Z_3PU27_"
      },
      "source": [
        "data.dropna(inplace=True)"
      ],
      "execution_count": 7,
      "outputs": []
    },
    {
      "cell_type": "code",
      "metadata": {
        "id": "Bko7h4jtVhpx"
      },
      "source": [
        "data=data.drop(['Loan_ID'],axis=1)"
      ],
      "execution_count": 8,
      "outputs": []
    },
    {
      "cell_type": "code",
      "metadata": {
        "id": "PlXC_bkRV8in"
      },
      "source": [
        "X=data.drop(['Loan_Status'],axis=1)\n",
        "y=data['Loan_Status']"
      ],
      "execution_count": 9,
      "outputs": []
    },
    {
      "cell_type": "code",
      "metadata": {
        "id": "gpKil5JcV3uS"
      },
      "source": [
        "X_train, X_test, y_train, y_test = train_test_split(X, y, test_size=0.33, random_state=42)"
      ],
      "execution_count": 10,
      "outputs": []
    },
    {
      "cell_type": "code",
      "metadata": {
        "colab": {
          "base_uri": "https://localhost:8080/",
          "height": 461
        },
        "id": "Zys3I7g2TbZz",
        "outputId": "ea274cff-a3da-45c0-f102-89dcaed22420"
      },
      "source": [
        "data"
      ],
      "execution_count": 11,
      "outputs": [
        {
          "output_type": "execute_result",
          "data": {
            "text/html": [
              "<div>\n",
              "<style scoped>\n",
              "    .dataframe tbody tr th:only-of-type {\n",
              "        vertical-align: middle;\n",
              "    }\n",
              "\n",
              "    .dataframe tbody tr th {\n",
              "        vertical-align: top;\n",
              "    }\n",
              "\n",
              "    .dataframe thead th {\n",
              "        text-align: right;\n",
              "    }\n",
              "</style>\n",
              "<table border=\"1\" class=\"dataframe\">\n",
              "  <thead>\n",
              "    <tr style=\"text-align: right;\">\n",
              "      <th></th>\n",
              "      <th>Gender</th>\n",
              "      <th>Married</th>\n",
              "      <th>Dependents</th>\n",
              "      <th>Education</th>\n",
              "      <th>Self_Employed</th>\n",
              "      <th>ApplicantIncome</th>\n",
              "      <th>CoapplicantIncome</th>\n",
              "      <th>LoanAmount</th>\n",
              "      <th>Loan_Amount_Term</th>\n",
              "      <th>Credit_History</th>\n",
              "      <th>Property_Area</th>\n",
              "      <th>Loan_Status</th>\n",
              "    </tr>\n",
              "  </thead>\n",
              "  <tbody>\n",
              "    <tr>\n",
              "      <th>1</th>\n",
              "      <td>Male</td>\n",
              "      <td>Yes</td>\n",
              "      <td>1</td>\n",
              "      <td>Graduate</td>\n",
              "      <td>No</td>\n",
              "      <td>4583</td>\n",
              "      <td>1508.0</td>\n",
              "      <td>128.0</td>\n",
              "      <td>360.0</td>\n",
              "      <td>1.0</td>\n",
              "      <td>Rural</td>\n",
              "      <td>N</td>\n",
              "    </tr>\n",
              "    <tr>\n",
              "      <th>2</th>\n",
              "      <td>Male</td>\n",
              "      <td>Yes</td>\n",
              "      <td>0</td>\n",
              "      <td>Graduate</td>\n",
              "      <td>Yes</td>\n",
              "      <td>3000</td>\n",
              "      <td>0.0</td>\n",
              "      <td>66.0</td>\n",
              "      <td>360.0</td>\n",
              "      <td>1.0</td>\n",
              "      <td>Urban</td>\n",
              "      <td>Y</td>\n",
              "    </tr>\n",
              "    <tr>\n",
              "      <th>3</th>\n",
              "      <td>Male</td>\n",
              "      <td>Yes</td>\n",
              "      <td>0</td>\n",
              "      <td>Not Graduate</td>\n",
              "      <td>No</td>\n",
              "      <td>2583</td>\n",
              "      <td>2358.0</td>\n",
              "      <td>120.0</td>\n",
              "      <td>360.0</td>\n",
              "      <td>1.0</td>\n",
              "      <td>Urban</td>\n",
              "      <td>Y</td>\n",
              "    </tr>\n",
              "    <tr>\n",
              "      <th>4</th>\n",
              "      <td>Male</td>\n",
              "      <td>No</td>\n",
              "      <td>0</td>\n",
              "      <td>Graduate</td>\n",
              "      <td>No</td>\n",
              "      <td>6000</td>\n",
              "      <td>0.0</td>\n",
              "      <td>141.0</td>\n",
              "      <td>360.0</td>\n",
              "      <td>1.0</td>\n",
              "      <td>Urban</td>\n",
              "      <td>Y</td>\n",
              "    </tr>\n",
              "    <tr>\n",
              "      <th>5</th>\n",
              "      <td>Male</td>\n",
              "      <td>Yes</td>\n",
              "      <td>2</td>\n",
              "      <td>Graduate</td>\n",
              "      <td>Yes</td>\n",
              "      <td>5417</td>\n",
              "      <td>4196.0</td>\n",
              "      <td>267.0</td>\n",
              "      <td>360.0</td>\n",
              "      <td>1.0</td>\n",
              "      <td>Urban</td>\n",
              "      <td>Y</td>\n",
              "    </tr>\n",
              "    <tr>\n",
              "      <th>...</th>\n",
              "      <td>...</td>\n",
              "      <td>...</td>\n",
              "      <td>...</td>\n",
              "      <td>...</td>\n",
              "      <td>...</td>\n",
              "      <td>...</td>\n",
              "      <td>...</td>\n",
              "      <td>...</td>\n",
              "      <td>...</td>\n",
              "      <td>...</td>\n",
              "      <td>...</td>\n",
              "      <td>...</td>\n",
              "    </tr>\n",
              "    <tr>\n",
              "      <th>609</th>\n",
              "      <td>Female</td>\n",
              "      <td>No</td>\n",
              "      <td>0</td>\n",
              "      <td>Graduate</td>\n",
              "      <td>No</td>\n",
              "      <td>2900</td>\n",
              "      <td>0.0</td>\n",
              "      <td>71.0</td>\n",
              "      <td>360.0</td>\n",
              "      <td>1.0</td>\n",
              "      <td>Rural</td>\n",
              "      <td>Y</td>\n",
              "    </tr>\n",
              "    <tr>\n",
              "      <th>610</th>\n",
              "      <td>Male</td>\n",
              "      <td>Yes</td>\n",
              "      <td>3+</td>\n",
              "      <td>Graduate</td>\n",
              "      <td>No</td>\n",
              "      <td>4106</td>\n",
              "      <td>0.0</td>\n",
              "      <td>40.0</td>\n",
              "      <td>180.0</td>\n",
              "      <td>1.0</td>\n",
              "      <td>Rural</td>\n",
              "      <td>Y</td>\n",
              "    </tr>\n",
              "    <tr>\n",
              "      <th>611</th>\n",
              "      <td>Male</td>\n",
              "      <td>Yes</td>\n",
              "      <td>1</td>\n",
              "      <td>Graduate</td>\n",
              "      <td>No</td>\n",
              "      <td>8072</td>\n",
              "      <td>240.0</td>\n",
              "      <td>253.0</td>\n",
              "      <td>360.0</td>\n",
              "      <td>1.0</td>\n",
              "      <td>Urban</td>\n",
              "      <td>Y</td>\n",
              "    </tr>\n",
              "    <tr>\n",
              "      <th>612</th>\n",
              "      <td>Male</td>\n",
              "      <td>Yes</td>\n",
              "      <td>2</td>\n",
              "      <td>Graduate</td>\n",
              "      <td>No</td>\n",
              "      <td>7583</td>\n",
              "      <td>0.0</td>\n",
              "      <td>187.0</td>\n",
              "      <td>360.0</td>\n",
              "      <td>1.0</td>\n",
              "      <td>Urban</td>\n",
              "      <td>Y</td>\n",
              "    </tr>\n",
              "    <tr>\n",
              "      <th>613</th>\n",
              "      <td>Female</td>\n",
              "      <td>No</td>\n",
              "      <td>0</td>\n",
              "      <td>Graduate</td>\n",
              "      <td>Yes</td>\n",
              "      <td>4583</td>\n",
              "      <td>0.0</td>\n",
              "      <td>133.0</td>\n",
              "      <td>360.0</td>\n",
              "      <td>0.0</td>\n",
              "      <td>Semiurban</td>\n",
              "      <td>N</td>\n",
              "    </tr>\n",
              "  </tbody>\n",
              "</table>\n",
              "<p>480 rows × 12 columns</p>\n",
              "</div>"
            ],
            "text/plain": [
              "     Gender Married Dependents  ... Credit_History Property_Area  Loan_Status\n",
              "1      Male     Yes          1  ...            1.0         Rural            N\n",
              "2      Male     Yes          0  ...            1.0         Urban            Y\n",
              "3      Male     Yes          0  ...            1.0         Urban            Y\n",
              "4      Male      No          0  ...            1.0         Urban            Y\n",
              "5      Male     Yes          2  ...            1.0         Urban            Y\n",
              "..      ...     ...        ...  ...            ...           ...          ...\n",
              "609  Female      No          0  ...            1.0         Rural            Y\n",
              "610    Male     Yes         3+  ...            1.0         Rural            Y\n",
              "611    Male     Yes          1  ...            1.0         Urban            Y\n",
              "612    Male     Yes          2  ...            1.0         Urban            Y\n",
              "613  Female      No          0  ...            0.0     Semiurban            N\n",
              "\n",
              "[480 rows x 12 columns]"
            ]
          },
          "metadata": {},
          "execution_count": 11
        }
      ]
    },
    {
      "cell_type": "code",
      "metadata": {
        "colab": {
          "base_uri": "https://localhost:8080/",
          "height": 345
        },
        "id": "K-af3cdITlFm",
        "outputId": "360f2335-f132-4991-e0e8-c7b3ed5ecdca"
      },
      "source": [
        "from lale.operators import make_pipeline, make_union\n",
        "\n",
        "planned_pipeline = make_pipeline(\n",
        "    make_union(\n",
        "        make_pipeline(Project(columns={'type': 'number'}), Norm | NoOp),\n",
        "        make_pipeline(Project(columns={'type': 'string'}), OneHot)),\n",
        "    LR | LinearSVC(dual=False)| XGBoost)\n",
        "planned_pipeline.visualize()"
      ],
      "execution_count": 12,
      "outputs": [
        {
          "output_type": "display_data",
          "data": {
            "text/plain": [
              "<graphviz.dot.Digraph at 0x7fe216162e50>"
            ],
            "image/svg+xml": "<?xml version=\"1.0\" encoding=\"UTF-8\" standalone=\"no\"?>\n<!DOCTYPE svg PUBLIC \"-//W3C//DTD SVG 1.1//EN\"\n \"http://www.w3.org/Graphics/SVG/1.1/DTD/svg11.dtd\">\n<!-- Generated by graphviz version 2.40.1 (20161225.0304)\n -->\n<!-- Title: cluster:(root) Pages: 1 -->\n<svg width=\"367pt\" height=\"243pt\"\n viewBox=\"0.00 0.00 367.28 243.00\" xmlns=\"http://www.w3.org/2000/svg\" xmlns:xlink=\"http://www.w3.org/1999/xlink\">\n<g id=\"graph0\" class=\"graph\" transform=\"scale(1 1) rotate(0) translate(4 239)\">\n<title>cluster:(root)</title>\n<g id=\"a_graph0\"><a xlink:title=\"(root) = ...\">\n<polygon fill=\"#ffffff\" stroke=\"transparent\" points=\"-4,4 -4,-239 363.2792,-239 363.2792,4 -4,4\"/>\n</a>\n</g>\n<g id=\"clust1\" class=\"cluster\">\n<title>cluster:choice_0</title>\n<g id=\"a_clust1\"><a xlink:title=\"choice_0 = norm | no_op\">\n<polygon fill=\"#7ec0ee\" stroke=\"#000000\" points=\"82,-105 82,-227 152,-227 152,-105 82,-105\"/>\n<text text-anchor=\"middle\" x=\"117\" y=\"-211.8\" font-family=\"Times,serif\" font-size=\"14.00\" fill=\"#000000\">Choice</text>\n</a>\n</g>\n</g>\n<g id=\"clust2\" class=\"cluster\">\n<title>cluster:choice_1</title>\n<g id=\"a_clust2\"><a xlink:title=\"choice_1 = lr | linear_svc | xg_boost\">\n<polygon fill=\"#7ec0ee\" stroke=\"#000000\" points=\"275.8823,-8 275.8823,-177 351.2792,-177 351.2792,-8 275.8823,-8\"/>\n<text text-anchor=\"middle\" x=\"313.5807\" y=\"-161.8\" font-family=\"Times,serif\" font-size=\"14.00\" fill=\"#000000\">Choice</text>\n</a>\n</g>\n</g>\n<!-- project_0 -->\n<g id=\"node1\" class=\"node\">\n<title>project_0</title>\n<g id=\"a_node1\"><a xlink:href=\"https://lale.readthedocs.io/en/latest/modules/lale.lib.lale.project.html\" target=\"_blank\" rel=\"noopener noreferrer\" xlink:title=\"project_0 = Project(columns={&#39;type&#39;: &#39;number&#39;})\">\n<ellipse fill=\"#b0e2ff\" stroke=\"#000000\" cx=\"27\" cy=\"-178\" rx=\"27\" ry=\"18\"/>\n<text text-anchor=\"middle\" x=\"27\" y=\"-175.2\" font-family=\"Times,serif\" font-size=\"11.00\" fill=\"#000000\">Project</text>\n</a>\n</g>\n</g>\n<!-- norm -->\n<g id=\"node2\" class=\"node\">\n<title>norm</title>\n<g id=\"a_node2\"><a xlink:href=\"https://lale.readthedocs.io/en/latest/modules/lale.lib.sklearn.normalizer.html\" target=\"_blank\" rel=\"noopener noreferrer\" xlink:title=\"norm = Norm\">\n<ellipse fill=\"#7ec0ee\" stroke=\"#000000\" cx=\"117\" cy=\"-178\" rx=\"27\" ry=\"18\"/>\n<text text-anchor=\"middle\" x=\"117\" y=\"-175.2\" font-family=\"Times,serif\" font-size=\"11.00\" fill=\"#000000\">Norm</text>\n</a>\n</g>\n</g>\n<!-- project_0&#45;&gt;norm -->\n<g id=\"edge1\" class=\"edge\">\n<title>project_0&#45;&gt;norm</title>\n<path fill=\"none\" stroke=\"#000000\" d=\"M54.003,-178C62.0277,-178 70.9665,-178 79.5309,-178\"/>\n<polygon fill=\"#000000\" stroke=\"#000000\" points=\"72.0001,-181.5004 82,-178 71.9999,-174.5004 72.0001,-181.5004\"/>\n</g>\n<!-- concat_features -->\n<g id=\"node6\" class=\"node\">\n<title>concat_features</title>\n<g id=\"a_node6\"><a xlink:href=\"https://lale.readthedocs.io/en/latest/modules/lale.lib.lale.concat_features.html\" target=\"_blank\" rel=\"noopener noreferrer\" xlink:title=\"concat_features = ConcatFeatures()\">\n<ellipse fill=\"#ffffff\" stroke=\"#000000\" cx=\"213.9411\" cy=\"-128\" rx=\"33.8824\" ry=\"19.6\"/>\n<text text-anchor=\"middle\" x=\"213.9411\" y=\"-131.2\" font-family=\"Times,serif\" font-size=\"11.00\" fill=\"#000000\">Concat&#45;</text>\n<text text-anchor=\"middle\" x=\"213.9411\" y=\"-119.2\" font-family=\"Times,serif\" font-size=\"11.00\" fill=\"#000000\">Features</text>\n</a>\n</g>\n</g>\n<!-- norm&#45;&gt;concat_features -->\n<g id=\"edge3\" class=\"edge\">\n<title>norm&#45;&gt;concat_features</title>\n<path fill=\"none\" stroke=\"#000000\" d=\"M151.9971,-159.9493C160.8706,-155.3726 170.3985,-150.4583 179.2565,-145.8895\"/>\n<polygon fill=\"#000000\" stroke=\"#000000\" points=\"181.077,-148.8888 188.36,-141.1941 177.8681,-142.6675 181.077,-148.8888\"/>\n</g>\n<!-- no_op -->\n<g id=\"node3\" class=\"node\">\n<title>no_op</title>\n<g id=\"a_node3\"><a xlink:href=\"https://lale.readthedocs.io/en/latest/modules/lale.lib.lale.no_op.html\" target=\"_blank\" rel=\"noopener noreferrer\" xlink:title=\"no_op = NoOp\">\n<ellipse fill=\"#ffffff\" stroke=\"#000000\" cx=\"117\" cy=\"-133\" rx=\"27\" ry=\"19.6\"/>\n<text text-anchor=\"middle\" x=\"117\" y=\"-136.2\" font-family=\"Times,serif\" font-size=\"11.00\" fill=\"#000000\">No&#45;</text>\n<text text-anchor=\"middle\" x=\"117\" y=\"-124.2\" font-family=\"Times,serif\" font-size=\"11.00\" fill=\"#000000\">Op</text>\n</a>\n</g>\n</g>\n<!-- project_1 -->\n<g id=\"node4\" class=\"node\">\n<title>project_1</title>\n<g id=\"a_node4\"><a xlink:href=\"https://lale.readthedocs.io/en/latest/modules/lale.lib.lale.project.html\" target=\"_blank\" rel=\"noopener noreferrer\" xlink:title=\"project_1 = Project(columns={&#39;type&#39;: &#39;string&#39;})\">\n<ellipse fill=\"#b0e2ff\" stroke=\"#000000\" cx=\"27\" cy=\"-77\" rx=\"27\" ry=\"18\"/>\n<text text-anchor=\"middle\" x=\"27\" y=\"-74.2\" font-family=\"Times,serif\" font-size=\"11.00\" fill=\"#000000\">Project</text>\n</a>\n</g>\n</g>\n<!-- one_hot -->\n<g id=\"node5\" class=\"node\">\n<title>one_hot</title>\n<g id=\"a_node5\"><a xlink:href=\"https://lale.readthedocs.io/en/latest/modules/lale.lib.sklearn.one_hot_encoder.html\" target=\"_blank\" rel=\"noopener noreferrer\" xlink:title=\"one_hot = OneHot\">\n<ellipse fill=\"#7ec0ee\" stroke=\"#000000\" cx=\"117\" cy=\"-77\" rx=\"27\" ry=\"19.6\"/>\n<text text-anchor=\"middle\" x=\"117\" y=\"-80.2\" font-family=\"Times,serif\" font-size=\"11.00\" fill=\"#000000\">One&#45;</text>\n<text text-anchor=\"middle\" x=\"117\" y=\"-68.2\" font-family=\"Times,serif\" font-size=\"11.00\" fill=\"#000000\">Hot</text>\n</a>\n</g>\n</g>\n<!-- project_1&#45;&gt;one_hot -->\n<g id=\"edge2\" class=\"edge\">\n<title>project_1&#45;&gt;one_hot</title>\n<path fill=\"none\" stroke=\"#000000\" d=\"M54.003,-77C62.0277,-77 70.9665,-77 79.5309,-77\"/>\n<polygon fill=\"#000000\" stroke=\"#000000\" points=\"79.7051,-80.5001 89.705,-77 79.705,-73.5001 79.7051,-80.5001\"/>\n</g>\n<!-- one_hot&#45;&gt;concat_features -->\n<g id=\"edge4\" class=\"edge\">\n<title>one_hot&#45;&gt;concat_features</title>\n<path fill=\"none\" stroke=\"#000000\" d=\"M138.9974,-88.5727C150.98,-94.8766 166.0762,-102.8186 179.5741,-109.9198\"/>\n<polygon fill=\"#000000\" stroke=\"#000000\" points=\"178.1259,-113.1127 188.6055,-114.6711 181.3851,-106.9177 178.1259,-113.1127\"/>\n</g>\n<!-- lr -->\n<g id=\"node7\" class=\"node\">\n<title>lr</title>\n<g id=\"a_node7\"><a xlink:href=\"https://lale.readthedocs.io/en/latest/modules/lale.lib.sklearn.logistic_regression.html\" target=\"_blank\" rel=\"noopener noreferrer\" xlink:title=\"lr = LR\">\n<ellipse fill=\"#7ec0ee\" stroke=\"#000000\" cx=\"313.5807\" cy=\"-128\" rx=\"27\" ry=\"18\"/>\n<text text-anchor=\"middle\" x=\"313.5807\" y=\"-125.2\" font-family=\"Times,serif\" font-size=\"11.00\" fill=\"#000000\">LR</text>\n</a>\n</g>\n</g>\n<!-- concat_features&#45;&gt;lr -->\n<g id=\"edge5\" class=\"edge\">\n<title>concat_features&#45;&gt;lr</title>\n<path fill=\"none\" stroke=\"#000000\" d=\"M247.9527,-128C253.7142,-128 259.7903,-128 265.8259,-128\"/>\n<polygon fill=\"#000000\" stroke=\"#000000\" points=\"265.8826,-131.5001 275.8825,-128 265.8825,-124.5001 265.8826,-131.5001\"/>\n</g>\n<!-- linear_svc -->\n<g id=\"node8\" class=\"node\">\n<title>linear_svc</title>\n<g id=\"a_node8\"><a xlink:href=\"https://lale.readthedocs.io/en/latest/modules/lale.lib.sklearn.linear_svc.html\" target=\"_blank\" rel=\"noopener noreferrer\" xlink:title=\"linear_svc = LinearSVC(dual=False)\">\n<ellipse fill=\"#b0e2ff\" stroke=\"#000000\" cx=\"313.5807\" cy=\"-83\" rx=\"29.8983\" ry=\"19.6\"/>\n<text text-anchor=\"middle\" x=\"313.5807\" y=\"-86.2\" font-family=\"Times,serif\" font-size=\"11.00\" fill=\"#000000\">Linear&#45;</text>\n<text text-anchor=\"middle\" x=\"313.5807\" y=\"-74.2\" font-family=\"Times,serif\" font-size=\"11.00\" fill=\"#000000\">SVC</text>\n</a>\n</g>\n</g>\n<!-- xg_boost -->\n<g id=\"node9\" class=\"node\">\n<title>xg_boost</title>\n<g id=\"a_node9\"><a xlink:href=\"https://lale.readthedocs.io/en/latest/modules/lale.lib.xgboost.xgb_classifier.html\" target=\"_blank\" rel=\"noopener noreferrer\" xlink:title=\"xg_boost = XGBoost\">\n<ellipse fill=\"#7ec0ee\" stroke=\"#000000\" cx=\"313.5807\" cy=\"-36\" rx=\"27\" ry=\"19.6\"/>\n<text text-anchor=\"middle\" x=\"313.5807\" y=\"-39.2\" font-family=\"Times,serif\" font-size=\"11.00\" fill=\"#000000\">XG&#45;</text>\n<text text-anchor=\"middle\" x=\"313.5807\" y=\"-27.2\" font-family=\"Times,serif\" font-size=\"11.00\" fill=\"#000000\">Boost</text>\n</a>\n</g>\n</g>\n</g>\n</svg>\n"
          },
          "metadata": {}
        }
      ]
    },
    {
      "cell_type": "code",
      "metadata": {
        "colab": {
          "base_uri": "https://localhost:8080/"
        },
        "id": "czdSF5G3TrQX",
        "outputId": "db38573d-7fac-4a73-a59f-976a09e969b3"
      },
      "source": [
        "from lale.lib.lale import Hyperopt\n",
        "trained_pipeline = planned_pipeline.auto_configure(\n",
        "    X_train, y_train, Hyperopt, cv=3, max_evals=10)"
      ],
      "execution_count": 13,
      "outputs": [
        {
          "output_type": "stream",
          "name": "stdout",
          "text": [
            "100%|██████████| 10/10 [00:25<00:00,  2.57s/trial, best loss: -0.8161993769470405]\n"
          ]
        }
      ]
    },
    {
      "cell_type": "code",
      "metadata": {
        "colab": {
          "base_uri": "https://localhost:8080/",
          "height": 161
        },
        "id": "ZtAhwswoUVrg",
        "outputId": "963e73c4-f783-47ce-bcc8-cc0a4b310cbd"
      },
      "source": [
        "from sklearn.metrics import accuracy_score\n",
        "predictions = trained_pipeline.predict(X_test)\n",
        "print(f'accuracy {accuracy_score(y_test, predictions):.1%}')\n",
        "trained_pipeline.visualize()"
      ],
      "execution_count": 14,
      "outputs": [
        {
          "output_type": "stream",
          "name": "stdout",
          "text": [
            "accuracy 80.5%\n"
          ]
        },
        {
          "output_type": "display_data",
          "data": {
            "text/plain": [
              "<graphviz.dot.Digraph at 0x7fe21601c290>"
            ],
            "image/svg+xml": "<?xml version=\"1.0\" encoding=\"UTF-8\" standalone=\"no\"?>\n<!DOCTYPE svg PUBLIC \"-//W3C//DTD SVG 1.1//EN\"\n \"http://www.w3.org/Graphics/SVG/1.1/DTD/svg11.dtd\">\n<!-- Generated by graphviz version 2.40.1 (20161225.0304)\n -->\n<!-- Title: cluster:(root) Pages: 1 -->\n<svg width=\"346pt\" height=\"91pt\"\n viewBox=\"0.00 0.00 345.88 90.80\" xmlns=\"http://www.w3.org/2000/svg\" xmlns:xlink=\"http://www.w3.org/1999/xlink\">\n<g id=\"graph0\" class=\"graph\" transform=\"scale(1 1) rotate(0) translate(4 86.799)\">\n<title>cluster:(root)</title>\n<g id=\"a_graph0\"><a xlink:title=\"(root) = ...\">\n<polygon fill=\"#ffffff\" stroke=\"transparent\" points=\"-4,4 -4,-86.799 341.8823,-86.799 341.8823,4 -4,4\"/>\n</a>\n</g>\n<!-- project_0 -->\n<g id=\"node1\" class=\"node\">\n<title>project_0</title>\n<g id=\"a_node1\"><a xlink:href=\"https://lale.readthedocs.io/en/latest/modules/lale.lib.lale.project.html\" target=\"_blank\" rel=\"noopener noreferrer\" xlink:title=\"project_0 = Project(columns={&#39;type&#39;: &#39;number&#39;})\">\n<ellipse fill=\"#ffffff\" stroke=\"#000000\" cx=\"27\" cy=\"-64.799\" rx=\"27\" ry=\"18\"/>\n<text text-anchor=\"middle\" x=\"27\" y=\"-61.999\" font-family=\"Times,serif\" font-size=\"11.00\" fill=\"#000000\">Project</text>\n</a>\n</g>\n</g>\n<!-- norm -->\n<g id=\"node2\" class=\"node\">\n<title>norm</title>\n<g id=\"a_node2\"><a xlink:href=\"https://lale.readthedocs.io/en/latest/modules/lale.lib.sklearn.normalizer.html\" target=\"_blank\" rel=\"noopener noreferrer\" xlink:title=\"norm = Norm(norm=&#39;l1&#39;)\">\n<ellipse fill=\"#ffffff\" stroke=\"#000000\" cx=\"117\" cy=\"-64.799\" rx=\"27\" ry=\"18\"/>\n<text text-anchor=\"middle\" x=\"117\" y=\"-61.999\" font-family=\"Times,serif\" font-size=\"11.00\" fill=\"#000000\">Norm</text>\n</a>\n</g>\n</g>\n<!-- project_0&#45;&gt;norm -->\n<g id=\"edge1\" class=\"edge\">\n<title>project_0&#45;&gt;norm</title>\n<path fill=\"none\" stroke=\"#000000\" d=\"M54.003,-64.799C62.0277,-64.799 70.9665,-64.799 79.5309,-64.799\"/>\n<polygon fill=\"#000000\" stroke=\"#000000\" points=\"79.7051,-68.2991 89.705,-64.799 79.705,-61.2991 79.7051,-68.2991\"/>\n</g>\n<!-- concat_features -->\n<g id=\"node5\" class=\"node\">\n<title>concat_features</title>\n<g id=\"a_node5\"><a xlink:href=\"https://lale.readthedocs.io/en/latest/modules/lale.lib.lale.concat_features.html\" target=\"_blank\" rel=\"noopener noreferrer\" xlink:title=\"concat_features = ConcatFeatures()\">\n<ellipse fill=\"#ffffff\" stroke=\"#000000\" cx=\"213.9411\" cy=\"-41.799\" rx=\"33.8824\" ry=\"19.6\"/>\n<text text-anchor=\"middle\" x=\"213.9411\" y=\"-44.999\" font-family=\"Times,serif\" font-size=\"11.00\" fill=\"#000000\">Concat&#45;</text>\n<text text-anchor=\"middle\" x=\"213.9411\" y=\"-32.999\" font-family=\"Times,serif\" font-size=\"11.00\" fill=\"#000000\">Features</text>\n</a>\n</g>\n</g>\n<!-- norm&#45;&gt;concat_features -->\n<g id=\"edge3\" class=\"edge\">\n<title>norm&#45;&gt;concat_features</title>\n<path fill=\"none\" stroke=\"#000000\" d=\"M142.4701,-58.756C151.6421,-56.5799 162.2445,-54.0644 172.4284,-51.6482\"/>\n<polygon fill=\"#000000\" stroke=\"#000000\" points=\"173.4824,-54.9954 182.4043,-49.2813 171.8664,-48.1844 173.4824,-54.9954\"/>\n</g>\n<!-- project_1 -->\n<g id=\"node3\" class=\"node\">\n<title>project_1</title>\n<g id=\"a_node3\"><a xlink:href=\"https://lale.readthedocs.io/en/latest/modules/lale.lib.lale.project.html\" target=\"_blank\" rel=\"noopener noreferrer\" xlink:title=\"project_1 = Project(columns={&#39;type&#39;: &#39;string&#39;})\">\n<ellipse fill=\"#ffffff\" stroke=\"#000000\" cx=\"27\" cy=\"-19.799\" rx=\"27\" ry=\"18\"/>\n<text text-anchor=\"middle\" x=\"27\" y=\"-16.999\" font-family=\"Times,serif\" font-size=\"11.00\" fill=\"#000000\">Project</text>\n</a>\n</g>\n</g>\n<!-- one_hot -->\n<g id=\"node4\" class=\"node\">\n<title>one_hot</title>\n<g id=\"a_node4\"><a xlink:href=\"https://lale.readthedocs.io/en/latest/modules/lale.lib.sklearn.one_hot_encoder.html\" target=\"_blank\" rel=\"noopener noreferrer\" xlink:title=\"one_hot = OneHot\">\n<ellipse fill=\"#ffffff\" stroke=\"#000000\" cx=\"117\" cy=\"-19.799\" rx=\"27\" ry=\"19.6\"/>\n<text text-anchor=\"middle\" x=\"117\" y=\"-22.999\" font-family=\"Times,serif\" font-size=\"11.00\" fill=\"#000000\">One&#45;</text>\n<text text-anchor=\"middle\" x=\"117\" y=\"-10.999\" font-family=\"Times,serif\" font-size=\"11.00\" fill=\"#000000\">Hot</text>\n</a>\n</g>\n</g>\n<!-- project_1&#45;&gt;one_hot -->\n<g id=\"edge2\" class=\"edge\">\n<title>project_1&#45;&gt;one_hot</title>\n<path fill=\"none\" stroke=\"#000000\" d=\"M54.003,-19.799C62.0277,-19.799 70.9665,-19.799 79.5309,-19.799\"/>\n<polygon fill=\"#000000\" stroke=\"#000000\" points=\"79.7051,-23.2991 89.705,-19.799 79.705,-16.2991 79.7051,-23.2991\"/>\n</g>\n<!-- one_hot&#45;&gt;concat_features -->\n<g id=\"edge4\" class=\"edge\">\n<title>one_hot&#45;&gt;concat_features</title>\n<path fill=\"none\" stroke=\"#000000\" d=\"M142.9784,-25.6946C151.8862,-27.7161 162.0962,-30.0332 171.9433,-32.2679\"/>\n<polygon fill=\"#000000\" stroke=\"#000000\" points=\"171.4772,-35.7511 182.0038,-34.5511 173.0264,-28.9247 171.4772,-35.7511\"/>\n</g>\n<!-- xg_boost -->\n<g id=\"node6\" class=\"node\">\n<title>xg_boost</title>\n<g id=\"a_node6\"><a xlink:href=\"https://lale.readthedocs.io/en/latest/modules/lale.lib.xgboost.xgb_classifier.html\" target=\"_blank\" rel=\"noopener noreferrer\" xlink:title=\"xg_boost = XGBoost(gamma=0.6777027692905079, learning_rate=0.17593648838262638, max_depth=6, min_child_weight=8, n_estimators=539, reg_alpha=0.9512239065933292, reg_lambda=0.37306909889575746, subsample=0.8844821246070534)\">\n<ellipse fill=\"#ffffff\" stroke=\"#000000\" cx=\"310.8823\" cy=\"-41.799\" rx=\"27\" ry=\"19.6\"/>\n<text text-anchor=\"middle\" x=\"310.8823\" y=\"-44.999\" font-family=\"Times,serif\" font-size=\"11.00\" fill=\"#000000\">XG&#45;</text>\n<text text-anchor=\"middle\" x=\"310.8823\" y=\"-32.999\" font-family=\"Times,serif\" font-size=\"11.00\" fill=\"#000000\">Boost</text>\n</a>\n</g>\n</g>\n<!-- concat_features&#45;&gt;xg_boost -->\n<g id=\"edge5\" class=\"edge\">\n<title>concat_features&#45;&gt;xg_boost</title>\n<path fill=\"none\" stroke=\"#000000\" d=\"M248.1189,-41.799C256.3212,-41.799 265.1232,-41.799 273.464,-41.799\"/>\n<polygon fill=\"#000000\" stroke=\"#000000\" points=\"273.7025,-45.2991 283.7025,-41.799 273.7024,-38.2991 273.7025,-45.2991\"/>\n</g>\n</g>\n</svg>\n"
          },
          "metadata": {}
        }
      ]
    },
    {
      "cell_type": "code",
      "metadata": {
        "colab": {
          "base_uri": "https://localhost:8080/",
          "height": 469
        },
        "id": "jc_RnTYyVaGX",
        "outputId": "1d5b3bef-12b2-42e1-b801-fd8c923c1cb4"
      },
      "source": [
        "trained_pipeline.pretty_print(ipython_display=True)"
      ],
      "execution_count": 15,
      "outputs": [
        {
          "output_type": "display_data",
          "data": {
            "text/markdown": "```python\nfrom lale.lib.lale import Project\nfrom sklearn.preprocessing import Normalizer as Norm\nfrom sklearn.preprocessing import OneHotEncoder as OneHot\nfrom lale.lib.lale import ConcatFeatures\nfrom xgboost import XGBClassifier as XGBoost\nimport lale\n\nlale.wrap_imported_operators()\nproject_0 = Project(columns={\"type\": \"number\"})\nnorm = Norm(norm=\"l1\")\nproject_1 = Project(columns={\"type\": \"string\"})\nxg_boost = XGBoost(\n    gamma=0.6777027692905079,\n    learning_rate=0.17593648838262638,\n    max_depth=6,\n    min_child_weight=8,\n    n_estimators=539,\n    reg_alpha=0.9512239065933292,\n    reg_lambda=0.37306909889575746,\n    subsample=0.8844821246070534,\n)\npipeline = (\n    ((project_0 >> norm) & (project_1 >> OneHot))\n    >> ConcatFeatures()\n    >> xg_boost\n)\n```",
            "text/plain": [
              "<IPython.core.display.Markdown object>"
            ]
          },
          "metadata": {}
        }
      ]
    },
    {
      "cell_type": "code",
      "metadata": {
        "id": "4WBJy1Y0XPRR"
      },
      "source": [
        ""
      ],
      "execution_count": null,
      "outputs": []
    }
  ]
}